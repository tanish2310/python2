{
 "cells": [
  {
   "cell_type": "code",
   "execution_count": 1,
   "id": "d1816d65",
   "metadata": {},
   "outputs": [],
   "source": [
    "from tkinter import*\n",
    "from tkinter import messagebox\n",
    "import random\n",
    "\n",
    "def no():\n",
    "    messagebox.showinfo(' ', 'Thanks bro')\n",
    "    quit()\n",
    "\n",
    "def motionMouse(event):\n",
    "   btnYes.place(x=random.randint(0, 500),\n",
    "y=random.randint(0, 500))\n",
    "\n",
    "root = Tk()\n",
    "root.geometry('600x600')\n",
    "root.title('survey')\n",
    "root.resizable(width=False, height=False)\n",
    "root['bg'] = 'white'\n",
    "\n",
    "label = Label(root, text='Are you gay?', font='Arial 20 bold', bg='white').pack()\n",
    "btnYes = Button(root, text='No', font='Arial 20 bold')\n",
    "btnYes.place(x=170, y=100)\n",
    "btnYes.bind('<Enter>', motionMouse)\n",
    "btnNo = Button(root, text='Yes', font='Arial 20 bold', command=no).place(x=350, y=100)\n",
    "\n",
    "root.mainloop()"
   ]
  },
  {
   "cell_type": "code",
   "execution_count": null,
   "id": "44b46e95",
   "metadata": {},
   "outputs": [],
   "source": []
  }
 ],
 "metadata": {
  "kernelspec": {
   "display_name": "Python 3 (ipykernel)",
   "language": "python",
   "name": "python3"
  },
  "language_info": {
   "codemirror_mode": {
    "name": "ipython",
    "version": 3
   },
   "file_extension": ".py",
   "mimetype": "text/x-python",
   "name": "python",
   "nbconvert_exporter": "python",
   "pygments_lexer": "ipython3",
   "version": "3.11.4"
  }
 },
 "nbformat": 4,
 "nbformat_minor": 5
}
