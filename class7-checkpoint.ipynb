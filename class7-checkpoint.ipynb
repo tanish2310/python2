{
 "cells": [
  {
   "cell_type": "code",
   "execution_count": 10,
   "id": "9f7ea02c",
   "metadata": {},
   "outputs": [
    {
     "name": "stdout",
     "output_type": "stream",
     "text": [
      "\n",
      "list after popping a element:\n",
      "[1, 2, 3, 4]\n",
      "\n",
      "list after popping aspecific element: \n",
      "[1, 2, 4]\n"
     ]
    }
   ],
   "source": [
    "list = [1, 2, 3, 4, 5]\n",
    "\n",
    "#Removing element from the\n",
    "#set using the pop() method\n",
    "list.pop()\n",
    "print(\"\\nlist after popping a element:\")\n",
    "print(list)\n",
    "\n",
    "#removing element at a\n",
    "#specific location from the\n",
    "#set using the pop() method\n",
    "list.pop(2)\n",
    "print(\"\\nlist after popping aspecific element: \")\n",
    "print(list)"
   ]
  },
  {
   "cell_type": "code",
   "execution_count": null,
   "id": "8144e7c4",
   "metadata": {},
   "outputs": [],
   "source": []
  },
  {
   "cell_type": "code",
   "execution_count": 5,
   "id": "5662c6b5",
   "metadata": {},
   "outputs": [
    {
     "name": "stdout",
     "output_type": "stream",
     "text": [
      "\n",
      "list after popping a element:\n",
      "[1, 2, 3, 4, 5]\n",
      "\n",
      "list after popping aspecific element: \n",
      "[1, 2, 3, 4, 5]\n"
     ]
    }
   ],
   "source": [
    "List = [1, 2, 3, 4, 5]\n",
    "\n",
    "#Removing element from the\n",
    "#set using the pop() method\n",
    "list.pop()\n",
    "print(\"\\nlist after popping a element:\")\n",
    "print(List)\n",
    "\n",
    "#removing element at a\n",
    "#specific location from the\n",
    "#set using the pop() method\n",
    "list.pop(2)\n",
    "print(\"\\nlist after popping aspecific element: \")\n",
    "print(List)"
   ]
  },
  {
   "cell_type": "code",
   "execution_count": 6,
   "id": "77bfbba9",
   "metadata": {},
   "outputs": [
    {
     "name": "stdout",
     "output_type": "stream",
     "text": [
      "INITIAL LIST: \n",
      "['T', 'A', 'N', 'I', 'S', 'H', 'W', 'A', 'D', 'H', 'W', 'A']\n",
      "\n",
      "Slicing element in a range 3-8: \n",
      "['I', 'S', 'H', 'W', 'A']\n",
      "\n",
      "Elemennts sliced from 5th:elements till the end:\n",
      "['H', 'W', 'A', 'D', 'H', 'W', 'A']\n",
      "\n",
      "Printing all elements using slice operation:\n",
      "['T', 'A', 'N', 'I', 'S', 'H', 'W', 'A', 'D', 'H', 'W', 'A']\n"
     ]
    }
   ],
   "source": [
    "#python program to demostrate\n",
    "#removal of elements in a list\n",
    "\n",
    "#creating a list\n",
    "list = ['T', 'A', 'N', 'I', 'S', 'H', 'W', 'A', 'D', 'H', 'W', 'A']\n",
    "print(\"INITIAL LIST: \")\n",
    "print(list)\n",
    "\n",
    "#Print elements of a Range\n",
    "#using Slice Operation\n",
    "sliced_list = list[3:8]\n",
    "print(\"\\nSlicing element in a range 3-8: \")\n",
    "print(sliced_list)\n",
    "\n",
    "#Print elements from a\n",
    "#using Slice operation\n",
    "sliced_list = list[5:]\n",
    "print(\"\\nElemennts sliced from 5th:\"\n",
    "     \"elements till the end:\")\n",
    "print(sliced_list)\n",
    "\n",
    "#Printing elements from\n",
    "#beginning till end\n",
    "sliced_list = list[:]\n",
    "print(\"\\nPrinting all elements using slice operation:\")\n",
    "print(sliced_list)"
   ]
  },
  {
   "cell_type": "code",
   "execution_count": 11,
   "id": "417cb069",
   "metadata": {},
   "outputs": [
    {
     "name": "stdout",
     "output_type": "stream",
     "text": [
      "hello, Alice!\n"
     ]
    }
   ],
   "source": [
    "def greet(name):\n",
    "    \"\"\"This function greets the person passed in perameter.\"\"\"\n",
    "    print(f\"hello, {name}!\")\n",
    "    \n",
    "#Calling the function \n",
    "greet(\"Alice\")"
   ]
  },
  {
   "cell_type": "code",
   "execution_count": 13,
   "id": "be6f4366",
   "metadata": {},
   "outputs": [
    {
     "name": "stdout",
     "output_type": "stream",
     "text": [
      "5.0990195135927845\n"
     ]
    }
   ],
   "source": [
    "import math\n",
    "\n",
    "#Example: Calculate the square root of a number\n",
    "result = math.sqrt(26)\n",
    "print(result)"
   ]
  },
  {
   "cell_type": "code",
   "execution_count": 14,
   "id": "ef7a46fd",
   "metadata": {},
   "outputs": [
    {
     "name": "stdout",
     "output_type": "stream",
     "text": [
      "6\n"
     ]
    }
   ],
   "source": [
    "import random\n",
    "\n",
    "#Example: Generate a random integer between 1 and 10\n",
    "random_number = random.randint(1, 10)\n",
    "print(random_number)"
   ]
  },
  {
   "cell_type": "code",
   "execution_count": 18,
   "id": "62558a02",
   "metadata": {},
   "outputs": [
    {
     "name": "stdout",
     "output_type": "stream",
     "text": [
      "[1, 2, 3, 42]\n"
     ]
    }
   ],
   "source": [
    "def modify_list(my_list):\n",
    "    my_list.append(42)\n",
    "    \n",
    "original_list = [1, 2, 3]\n",
    "modify_list(original_list)\n",
    "print(original_list)"
   ]
  },
  {
   "cell_type": "code",
   "execution_count": 19,
   "id": "45e3295b",
   "metadata": {},
   "outputs": [
    {
     "name": "stdout",
     "output_type": "stream",
     "text": [
      "120\n"
     ]
    }
   ],
   "source": [
    "def factorial(n):\n",
    "    if n== 0:\n",
    "        return 1\n",
    "    else:\n",
    "        return n * factorial(n - 1)\n",
    "    \n",
    "result = factorial(5)\n",
    "print(result)"
   ]
  },
  {
   "cell_type": "code",
   "execution_count": 20,
   "id": "dfc66e41",
   "metadata": {},
   "outputs": [
    {
     "name": "stdout",
     "output_type": "stream",
     "text": [
      "25\n"
     ]
    }
   ],
   "source": [
    "#example: A lambda function to calculate the square of a number\n",
    "square = lambda x: x **2\n",
    "result = square(5)\n",
    "print(result)"
   ]
  },
  {
   "cell_type": "code",
   "execution_count": null,
   "id": "04df0fac",
   "metadata": {},
   "outputs": [],
   "source": [
    "def greet(name, greeting=\"hello\"):\n",
    "    print(f\"{})"
   ]
  }
 ],
 "metadata": {
  "kernelspec": {
   "display_name": "Python 3 (ipykernel)",
   "language": "python",
   "name": "python3"
  },
  "language_info": {
   "codemirror_mode": {
    "name": "ipython",
    "version": 3
   },
   "file_extension": ".py",
   "mimetype": "text/x-python",
   "name": "python",
   "nbconvert_exporter": "python",
   "pygments_lexer": "ipython3",
   "version": "3.11.4"
  }
 },
 "nbformat": 4,
 "nbformat_minor": 5
}
