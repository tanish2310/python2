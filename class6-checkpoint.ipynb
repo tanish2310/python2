{
 "cells": [
  {
   "cell_type": "code",
   "execution_count": 2,
   "id": "82630072",
   "metadata": {},
   "outputs": [
    {
     "name": "stdout",
     "output_type": "stream",
     "text": [
      "1 2 3 \n",
      "4 5 6 \n",
      "7 8 9 \n"
     ]
    }
   ],
   "source": [
    "#nested loop to iterate through a 2D list\n",
    "matrix = [\n",
    "    [1,2,3],\n",
    "    [4,5,6],\n",
    "    [7,8,9]\n",
    "]\n",
    "\n",
    "for row in matrix:\n",
    "    for element in row:\n",
    "        print(element, end=' ')\n",
    "    print()  #move to next row"
   ]
  },
  {
   "cell_type": "code",
   "execution_count": 3,
   "id": "d20df24e",
   "metadata": {},
   "outputs": [
    {
     "name": "stdout",
     "output_type": "stream",
     "text": [
      "*\n",
      "**\n",
      "***\n",
      "****\n",
      "*****\n"
     ]
    }
   ],
   "source": [
    "#Example: Printing a triangle pattern\n",
    "n = 5\n",
    "for i in range(n):\n",
    "    for j in range(i+1):\n",
    "        print('*', end='')\n",
    "    print()"
   ]
  },
  {
   "cell_type": "code",
   "execution_count": 4,
   "id": "d155dbe1",
   "metadata": {},
   "outputs": [
    {
     "name": "stdout",
     "output_type": "stream",
     "text": [
      "1 \n",
      "1 2 \n",
      "1 2 3 \n",
      "1 2 3 4 \n",
      "1 2 3 4 5 \n"
     ]
    }
   ],
   "source": [
    "#Example: Printing a number pattern (1 to n)\n",
    "n=5\n",
    "for i in range(1, n+1):\n",
    "    for j in range(1, i+1):\n",
    "        print(j, end=' ')\n",
    "    print()"
   ]
  },
  {
   "cell_type": "code",
   "execution_count": 10,
   "id": "16e956f5",
   "metadata": {},
   "outputs": [
    {
     "name": "stdout",
     "output_type": "stream",
     "text": [
      "enter Base length of tringle: 5\n",
      "enter height length of triangle: 5\n",
      "area of triangle is : 12.5\n"
     ]
    }
   ],
   "source": [
    "#Area of Triangle\n",
    "Base = input(\"enter Base length of tringle: \")\n",
    "height = input(\"enter height length of triangle: \")\n",
    "area = 0.5*float(Base)*float(height)\n",
    "\n",
    "print(\"area of triangle is :\", area)"
   ]
  },
  {
   "cell_type": "code",
   "execution_count": 11,
   "id": "410edca2",
   "metadata": {},
   "outputs": [
    {
     "name": "stdout",
     "output_type": "stream",
     "text": [
      "The sum is 1035\n"
     ]
    }
   ],
   "source": [
    "sum = 0\n",
    "for i in range(1, 101):\n",
    "    sum += i \n",
    "    if sum > 1000:\n",
    "        break\n",
    "print(f\"The sum is {sum}\")"
   ]
  },
  {
   "cell_type": "code",
   "execution_count": 12,
   "id": "65a88aad",
   "metadata": {},
   "outputs": [
    {
     "name": "stdout",
     "output_type": "stream",
     "text": [
      "1\n",
      "2\n",
      "3\n",
      "4\n",
      "6\n",
      "7\n",
      "8\n",
      "9\n",
      "10\n"
     ]
    }
   ],
   "source": [
    "for i in range(1, 11):\n",
    "    if i == 5:\n",
    "        continue\n",
    "    print(i)"
   ]
  },
  {
   "cell_type": "code",
   "execution_count": 15,
   "id": "947b5374",
   "metadata": {
    "scrolled": true
   },
   "outputs": [
    {
     "name": "stdout",
     "output_type": "stream",
     "text": [
      "1\n",
      "3\n",
      "5\n"
     ]
    }
   ],
   "source": [
    "num = [1,2,3,4,5]\n",
    "for i in num:\n",
    "    if i % 2 == 0:\n",
    "        pass\n",
    "    else:\n",
    "        print(i)"
   ]
  },
  {
   "cell_type": "code",
   "execution_count": 16,
   "id": "fdd7c75f",
   "metadata": {},
   "outputs": [
    {
     "name": "stdout",
     "output_type": "stream",
     "text": [
      "42.0\n"
     ]
    }
   ],
   "source": [
    "integer_value = 42\n",
    "float_value = float(integer_value)\n",
    "print(float_value)"
   ]
  },
  {
   "cell_type": "code",
   "execution_count": 17,
   "id": "89617b58",
   "metadata": {},
   "outputs": [
    {
     "name": "stdout",
     "output_type": "stream",
     "text": [
      "42\n"
     ]
    }
   ],
   "source": [
    "float_value = 42.99\n",
    "integer_value = int(float_value)\n",
    "print(integer_value)"
   ]
  },
  {
   "cell_type": "code",
   "execution_count": 19,
   "id": "52bc5433",
   "metadata": {},
   "outputs": [
    {
     "name": "stdout",
     "output_type": "stream",
     "text": [
      "['a', 'b', 'c']\n"
     ]
    }
   ],
   "source": [
    "Var = [\"a\", \"b\", \"c\"]\n",
    "print(Var)"
   ]
  },
  {
   "cell_type": "code",
   "execution_count": 20,
   "id": "d0a08589",
   "metadata": {},
   "outputs": [
    {
     "name": "stdout",
     "output_type": "stream",
     "text": [
      "\n",
      "List with the use of numbers: \n",
      "[1, 2, 4, 4, 3, 3, 3, 6, 5]\n",
      "\n",
      "List with the use of Mixed Values: \n",
      "[1, 2, 4, 4, 3, 3, 3, 6, 5]\n"
     ]
    }
   ],
   "source": [
    "list = [1, 2, 4, 4, 3, 3, 3, 6, 5]\n",
    "print(\"\\nList with the use of numbers: \")\n",
    "print(list)\n",
    "\n",
    "List = [1, 2, 'jar', 4, 'For', 6, 'jar']\n",
    "print(\"\\nList with the use of Mixed Values: \")\n",
    "print(list)"
   ]
  },
  {
   "cell_type": "code",
   "execution_count": 22,
   "id": "4572a860",
   "metadata": {},
   "outputs": [
    {
     "name": "stdout",
     "output_type": "stream",
     "text": [
      "Accessing the elements from the list\n",
      "Tanish\n",
      "UG\n",
      "wadhwa\n"
     ]
    }
   ],
   "source": [
    "List = [\"Tanish\", \"wadhwa\", \"UG\"]\n",
    "print(\"Accessing the elements from the list\")\n",
    "print(List[0])\n",
    "print(List[2])\n",
    "print(List[1])"
   ]
  },
  {
   "cell_type": "code",
   "execution_count": 24,
   "id": "3d046aee",
   "metadata": {},
   "outputs": [
    {
     "name": "stdout",
     "output_type": "stream",
     "text": [
      "0\n",
      "4\n"
     ]
    }
   ],
   "source": [
    "list = []\n",
    "print(len(list))\n",
    "\n",
    "list2 = [10,20,30,40]\n",
    "print(len(list2))"
   ]
  },
  {
   "cell_type": "code",
   "execution_count": 28,
   "id": "3f5a45e7",
   "metadata": {},
   "outputs": [
    {
     "name": "stdout",
     "output_type": "stream",
     "text": [
      "Initial blank List:\n",
      "[1]\n",
      "\n",
      "List after Addition of Three elements: \n",
      "[1, 1, 2, 4]\n",
      "InList after Addition of elements from 1-3: \n",
      "[1, 1, 2, 4, 1, 2, 3]\n",
      "InList after Addition of a Tuple: \n",
      "[1, 1, 2, 4, 1, 2, 3, (5, 6)]\n",
      "\n",
      "list after Addition of a List: \n",
      "[1, 1, 2, 4, 1, 2, 3, (5, 6), ['For', 'while']]\n"
     ]
    }
   ],
   "source": [
    "# Python program to demonstrate\n",
    "# Addition of elements in a List\n",
    "# Creating a List\n",
    "List = [1]\n",
    "print(\"Initial blank List:\")\n",
    "print (List)\n",
    "# Addition of Elements\n",
    "# in the List\n",
    "List.append (1)\n",
    "List.append (2)\n",
    "List.append (4)\n",
    "print(\"\\nList after Addition of Three elements: \")\n",
    "print (List)\n",
    "# Adding elements to the List\n",
    "# using Iterator\n",
    "for i in range(1, 4) :\n",
    "    List.append(i)\n",
    "print(\"InList after Addition of elements from 1-3: \")\n",
    "print (List)\n",
    "# Adding Tuples to the List\n",
    "List. append((5, 6))\n",
    "print(\"InList after Addition of a Tuple: \")\n",
    "print(List)\n",
    "# Addition of List to a List\n",
    "List2 = ['For', 'while']\n",
    "List.append(List2)\n",
    "print(\"\\nlist after Addition of a List: \")\n",
    "print(List)"
   ]
  },
  {
   "cell_type": "code",
   "execution_count": 31,
   "id": "96a5136f",
   "metadata": {},
   "outputs": [
    {
     "name": "stdout",
     "output_type": "stream",
     "text": [
      "Initial List: \n",
      "[1, 2, 3, 4]\n",
      "\n",
      "list after performing Insert Operation: \n",
      "['Tanish', 1, 2, 3, 12, 4]\n"
     ]
    }
   ],
   "source": [
    "#Python program to demonstrate\n",
    "# Addition of elements in a List\n",
    "# Creating a List\n",
    "List = [1,2,3,4]\n",
    "print(\"Initial List: \")\n",
    "print(List)\n",
    "# Addition of Element at\n",
    "# specific Position\n",
    "# (using Insert Method)\n",
    "List.insert (3, 12)\n",
    "List.insert(0, 'Tanish')\n",
    "print(\"\\nlist after performing Insert Operation: \")\n",
    "print(List)"
   ]
  },
  {
   "cell_type": "code",
   "execution_count": 36,
   "id": "9b12781f",
   "metadata": {},
   "outputs": [
    {
     "name": "stdout",
     "output_type": "stream",
     "text": [
      "Initial List: \n",
      "[1, 2, 3, 4]\n",
      "\n",
      "list after performing Extend Operation: \n",
      "[1, 2, 3, 4, 9, 'tanish', 'wadhwa']\n"
     ]
    }
   ],
   "source": [
    "# Python program to demonstrate\n",
    "# Addition of elements in a List\n",
    "\n",
    "# Creating a List\n",
    "List = [1, 2, 3, 4]\n",
    "print(\"Initial List: \")\n",
    "print(List)\n",
    "\n",
    "# Addition of multiple elements\n",
    "# to the List at the end\n",
    "# (using Extend Method)\n",
    "List.extend([9, 'tanish', 'wadhwa'])\n",
    "print(\"\\nlist after performing Extend Operation: \")\n",
    "print(List)"
   ]
  },
  {
   "cell_type": "code",
   "execution_count": 37,
   "id": "8c6be177",
   "metadata": {},
   "outputs": [
    {
     "name": "stdout",
     "output_type": "stream",
     "text": [
      "Initial List: \n",
      "['S', 'H', 'I', 'V', 'AM', 'E', 'H', 'T', 'A', 'P', 'h', 'D']\n",
      "\n",
      "Slicing elements in a range 3-8: \n",
      "['V', 'AM', 'E', 'H', 'T']\n",
      "\n",
      "Elements sliced from 5th element till the end: \n",
      "['E', 'H', 'T', 'A', 'P', 'h', 'D']\n",
      "\n",
      "Printing all elements using slice operation: \n",
      "['S', 'H', 'I', 'V', 'AM', 'E', 'H', 'T', 'A', 'P', 'h', 'D']\n"
     ]
    }
   ],
   "source": [
    "# Python program to demonstrate #Removal of elements in a List\n",
    "# Creating a List\n",
    "List = ['S', 'H', 'I', 'V', 'A'\n",
    "'M',\n",
    "'E', 'H', 'T', 'A', 'P', 'h', 'D']\n",
    "print(\"Initial List: \")\n",
    "print(List)\n",
    "# Print elements of a range\n",
    "# using Slice operation\n",
    "Sliced_List = List[3:8]\n",
    "print(\"\\nSlicing elements in a range 3-8: \")\n",
    "print (Sliced_List)\n",
    "# Print elements from a\n",
    "# pre-defined point to end\n",
    "Sliced_List = List[5:]\n",
    "print(\"\\nElements sliced from 5th \"\n",
    "\"element till the end: \")\n",
    "print (Sliced_List)\n",
    "# Printing elements from\n",
    "# beginning till end\n",
    "Sliced_List = List[:]\n",
    "print(\"\\nPrinting all elements using slice operation: \")\n",
    "print (Sliced_List)"
   ]
  },
  {
   "cell_type": "code",
   "execution_count": null,
   "id": "50367878",
   "metadata": {},
   "outputs": [],
   "source": []
  }
 ],
 "metadata": {
  "kernelspec": {
   "display_name": "Python 3 (ipykernel)",
   "language": "python",
   "name": "python3"
  },
  "language_info": {
   "codemirror_mode": {
    "name": "ipython",
    "version": 3
   },
   "file_extension": ".py",
   "mimetype": "text/x-python",
   "name": "python",
   "nbconvert_exporter": "python",
   "pygments_lexer": "ipython3",
   "version": "3.11.4"
  }
 },
 "nbformat": 4,
 "nbformat_minor": 5
}
