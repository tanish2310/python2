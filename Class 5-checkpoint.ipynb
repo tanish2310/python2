{
 "cells": [
  {
   "cell_type": "code",
   "execution_count": 1,
   "id": "41f0ed5e",
   "metadata": {},
   "outputs": [
    {
     "name": "stdout",
     "output_type": "stream",
     "text": [
      "dictionary Iteration\n",
      "xyz  123\n",
      "abc  345\n"
     ]
    }
   ],
   "source": [
    "#Iterating over dictionary\n",
    "print(\"dictionary Iteration\")\n",
    "\n",
    "d = dict()\n",
    "\n",
    "d['xyz'] = 123\n",
    "d['abc'] = 345\n",
    "for i in d:\n",
    "    print(\"% s % d\" %(i, d[i])) \n",
    "    "
   ]
  },
  {
   "cell_type": "code",
   "execution_count": 2,
   "id": "6bc01803",
   "metadata": {},
   "outputs": [
    {
     "name": "stdout",
     "output_type": "stream",
     "text": [
      "1 1\n",
      "1 2\n",
      "1 3\n",
      "2 1\n",
      "2 2\n",
      "2 3\n",
      "3 1\n",
      "3 2\n",
      "3 3\n"
     ]
    }
   ],
   "source": [
    "#nested for loop\n",
    "for i in range(1,4):\n",
    "    for j in range(1,4):\n",
    "        print(i,j)"
   ]
  },
  {
   "cell_type": "code",
   "execution_count": 3,
   "id": "cb81b178",
   "metadata": {},
   "outputs": [
    {
     "name": "stdout",
     "output_type": "stream",
     "text": [
      "1 2\n",
      "2 4\n",
      "5 6\n"
     ]
    }
   ],
   "source": [
    "#tuple for loop\n",
    "t= ((1,2), (2,4), (5,6))\n",
    "for a,b in t:\n",
    "    print(a,b)"
   ]
  },
  {
   "cell_type": "code",
   "execution_count": 26,
   "id": "1b69a446",
   "metadata": {},
   "outputs": [
    {
     "name": "stdout",
     "output_type": "stream",
     "text": [
      "Current Letter : T\n",
      "Current Letter : n\n",
      "Current Letter : i\n",
      "Current Letter : s\n",
      "Current Letter : h\n",
      "Current Letter : W\n",
      "Current Letter : d\n",
      "Current Letter : h\n"
     ]
    }
   ],
   "source": [
    "# Print all letters expect 'w' and 'a'\n",
    "\n",
    "for letter in 'TanishWadhwa':\n",
    "\n",
    "    if letter == 'w' or letter =='a':\n",
    "        continue\n",
    "    print('Current Letter :', letter)"
   ]
  },
  {
   "cell_type": "code",
   "execution_count": 27,
   "id": "50773334",
   "metadata": {},
   "outputs": [
    {
     "name": "stdout",
     "output_type": "stream",
     "text": [
      "Current Letter : T\n",
      "Current Letter : a\n",
      "Current Letter : n\n",
      "Current Letter : i\n",
      "Current Letter : s\n",
      "Current Letter : h\n",
      "Current Letter : W\n",
      "Current Letter : a\n",
      "Current Letter : d\n",
      "Current Letter : h\n",
      "Current Letter : w\n",
      "Current Letter : a\n"
     ]
    }
   ],
   "source": [
    "for letter in 'TanishWadhwa':\n",
    "\n",
    "    if letter == 'n' and letter =='w':\n",
    "        continue\n",
    "    print('Current Letter :', letter)"
   ]
  },
  {
   "cell_type": "code",
   "execution_count": 30,
   "id": "aab17275",
   "metadata": {},
   "outputs": [
    {
     "name": "stdout",
     "output_type": "stream",
     "text": [
      "current letter: t\n"
     ]
    }
   ],
   "source": [
    "for letter in 'tanishwadhwa':\n",
    "    # break the loop as soon it sees 't'\n",
    "    # or 'h'\n",
    "    if letter == 't' or letter == 'h':\n",
    "        break\n",
    "        \n",
    "print('current letter:', letter)"
   ]
  },
  {
   "cell_type": "code",
   "execution_count": 31,
   "id": "1a666955",
   "metadata": {},
   "outputs": [
    {
     "name": "stdout",
     "output_type": "stream",
     "text": [
      "0 1 2 3 4 \n",
      "Sum of First 5 numbers : 10\n"
     ]
    }
   ],
   "source": [
    "# Python Program to\n",
    "#Show Range() basics\n",
    "\n",
    "#printing a number\n",
    "for i in range(5):\n",
    "    print(i, end=\" \")\n",
    "    \n",
    "#performing Sum of First 5 number\n",
    "sum = 0\n",
    "for i in range(1,5):\n",
    "    sum = sum + i\n",
    "print(\"\\nSum of First 5 numbers :\", sum)"
   ]
  },
  {
   "cell_type": "code",
   "execution_count": null,
   "id": "57bacfb6",
   "metadata": {},
   "outputs": [],
   "source": [
    "#python program to demostrate\n",
    "#creation of list\n",
    "\n",
    "#Creating a list\n",
    "list = []\n",
    "print(\"blanck list: \")\n",
    "print(list)\n",
    "\n",
    "#Creating a list of numbers\n",
    "list = [10, 20, 14]\n",
    "print(\"\\nlist of numbers: \")\n",
    "print(list)\n",
    "\n",
    "#Creating a list of strings and accessing\n",
    "#using index\n",
    "list = [\"gree\"]"
   ]
  }
 ],
 "metadata": {
  "kernelspec": {
   "display_name": "Python 3 (ipykernel)",
   "language": "python",
   "name": "python3"
  },
  "language_info": {
   "codemirror_mode": {
    "name": "ipython",
    "version": 3
   },
   "file_extension": ".py",
   "mimetype": "text/x-python",
   "name": "python",
   "nbconvert_exporter": "python",
   "pygments_lexer": "ipython3",
   "version": "3.11.4"
  }
 },
 "nbformat": 4,
 "nbformat_minor": 5
}
